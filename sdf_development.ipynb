{
 "cells": [
  {
   "cell_type": "code",
   "execution_count": 2,
   "metadata": {},
   "outputs": [
    {
     "name": "stderr",
     "output_type": "stream",
     "text": [
      "WARNING:trimesh:searching for scad in: /Users/caseyschneider-mizell/anaconda3/envs/jupyter_space/bin:/Users/caseyschneider-mizell/.poetry/bin:/Users/caseyschneider-mizell/Work/google-cloud-sdk/bin:/Users/caseyschneider-mizell/.nvm/versions/node/v8.11.3/bin:/Users/caseyschneider-mizell:/Users/caseyschneider-mizell/Library/Python/3.6/bin:/opt/local/bin:/opt/local/sbin:/usr/local/bin:/usr/bin:/bin:/usr/sbin:/sbin:/Applications/VMware Fusion.app/Contents/Public:/Library/TeX/texbin:/opt/X11/bin:/Applications/OpenSCAD.app/Contents/MacOS\n"
     ]
    }
   ],
   "source": [
    "from meshparty import trimesh_io, trimesh_vtk\n",
    "\n",
    "from dotenv import load_dotenv\n",
    "import os\n",
    "import numpy as np\n",
    "\n",
    "load_dotenv(dotenv_path=os.path.expanduser('~/.config/pinky100/.env'))\n",
    "dataset_name = os.getenv('DATASET_NAME')\n",
    "sql_database_uri_base = os.getenv('MATERIALIZATION_DATABASE_URI_BASE')\n",
    "mesh_cv_path = os.getenv('GRAPHENE_SOURCE')\n",
    "voxel_resolution = np.array(os.getenv('VOXEL_RESOLUTION').split(',')).astype(float)\n",
    "voxel_scaling = np.array(os.getenv('VOXEL_SCALING').split(',')).astype(float)"
   ]
  },
  {
   "cell_type": "code",
   "execution_count": 3,
   "metadata": {},
   "outputs": [],
   "source": [
    "mm = trimesh_io.MeshMeta(dataset_name='pinky100', voxel_scaling=voxel_scaling)"
   ]
  },
  {
   "cell_type": "code",
   "execution_count": 4,
   "metadata": {
    "collapsed": true,
    "jupyter": {
     "outputs_hidden": true
    }
   },
   "outputs": [
    {
     "name": "stderr",
     "output_type": "stream",
     "text": [
      "Downloading Meshes:   0%|          | 0/1 [00:00<?, ?it/s]\n",
      "Downloading:   0%|          | 0/2701 [00:00<?, ?it/s]\u001b[A\n",
      "Downloading:   1%|          | 22/2701 [00:00<00:49, 53.94it/s]\u001b[A\n",
      "Downloading:   1%|          | 33/2701 [00:00<00:43, 61.37it/s]\u001b[A\n",
      "Downloading:   1%|▏         | 38/2701 [00:00<00:58, 45.81it/s]\u001b[A\n",
      "Downloading:   2%|▏         | 47/2701 [00:01<01:08, 38.60it/s]\u001b[A\n",
      "Downloading:   2%|▏         | 56/2701 [00:01<01:07, 39.31it/s]\u001b[A\n",
      "Downloading:   2%|▏         | 64/2701 [00:01<01:18, 33.80it/s]\u001b[A\n",
      "Downloading:   3%|▎         | 70/2701 [00:01<01:08, 38.40it/s]\u001b[A\n",
      "Downloading:   3%|▎         | 79/2701 [00:01<01:05, 39.90it/s]\u001b[A\n",
      "Downloading:   3%|▎         | 85/2701 [00:02<01:13, 35.74it/s]\u001b[A\n",
      "Downloading:   3%|▎         | 90/2701 [00:02<01:08, 38.37it/s]\u001b[A\n",
      "Downloading:   4%|▎         | 97/2701 [00:02<01:00, 43.17it/s]\u001b[A\n",
      "Downloading:   4%|▍         | 108/2701 [00:02<01:04, 39.98it/s]\u001b[A\n",
      "Downloading:   4%|▍         | 116/2701 [00:02<01:05, 39.64it/s]\u001b[A\n",
      "Downloading:   4%|▍         | 121/2701 [00:03<01:18, 32.78it/s]\u001b[A\n",
      "Downloading:   5%|▍         | 126/2701 [00:03<01:11, 35.90it/s]\u001b[A\n",
      "Downloading:   5%|▍         | 134/2701 [00:03<01:00, 42.16it/s]\u001b[A\n",
      "Downloading:   5%|▌         | 139/2701 [00:03<01:14, 34.43it/s]\u001b[A\n",
      "Downloading:   5%|▌         | 146/2701 [00:03<01:14, 34.23it/s]\u001b[A\n",
      "Downloading:   6%|▌         | 153/2701 [00:03<01:04, 39.73it/s]\u001b[A\n",
      "Downloading:   6%|▌         | 159/2701 [00:04<01:11, 35.33it/s]\u001b[A\n",
      "Downloading:   6%|▋         | 170/2701 [00:04<01:12, 35.07it/s]\u001b[A\n",
      "Downloading:   6%|▋         | 174/2701 [00:04<01:10, 35.69it/s]\u001b[A\n",
      "Downloading:   7%|▋         | 179/2701 [00:04<01:20, 31.19it/s]\u001b[A\n",
      "Downloading:   7%|▋         | 188/2701 [00:04<01:14, 33.90it/s]\u001b[A\n",
      "Downloading:   7%|▋         | 192/2701 [00:04<01:12, 34.78it/s]\u001b[A\n",
      "Downloading:   7%|▋         | 198/2701 [00:05<01:09, 35.83it/s]\u001b[A\n",
      "Downloading:   8%|▊         | 204/2701 [00:05<01:15, 33.11it/s]\u001b[A\n",
      "Downloading:   8%|▊         | 213/2701 [00:05<01:10, 35.46it/s]\u001b[A\n",
      "Downloading:   8%|▊         | 220/2701 [00:05<01:01, 40.15it/s]\u001b[A\n",
      "Downloading:   8%|▊         | 225/2701 [00:05<01:29, 27.67it/s]\u001b[A\n",
      "Downloading:   9%|▊         | 231/2701 [00:06<01:15, 32.50it/s]\u001b[A\n",
      "Downloading:   9%|▉         | 238/2701 [00:06<01:03, 38.58it/s]\u001b[A\n",
      "Downloading:   9%|▉         | 243/2701 [00:06<01:15, 32.42it/s]\u001b[A\n",
      "Downloading:   9%|▉         | 248/2701 [00:06<01:13, 33.32it/s]\u001b[A\n",
      "Downloading:   9%|▉         | 255/2701 [00:06<01:02, 39.11it/s]\u001b[A\n",
      "Downloading:  10%|▉         | 264/2701 [00:06<01:09, 34.83it/s]\u001b[A\n",
      "Downloading:  10%|█         | 271/2701 [00:07<01:00, 40.28it/s]\u001b[A\n",
      "Downloading:  10%|█         | 276/2701 [00:07<01:14, 32.41it/s]\u001b[A\n",
      "Downloading:  11%|█         | 286/2701 [00:07<01:14, 32.39it/s]\u001b[A\n",
      "Downloading:  11%|█         | 292/2701 [00:07<01:19, 30.39it/s]\u001b[A\n",
      "Downloading:  11%|█         | 298/2701 [00:08<01:23, 28.76it/s]\u001b[A\n",
      "Downloading:  11%|█▏        | 304/2701 [00:08<01:10, 33.88it/s]\u001b[A\n",
      "Downloading:  11%|█▏        | 310/2701 [00:08<01:15, 31.74it/s]\u001b[A\n",
      "Downloading:  12%|█▏        | 318/2701 [00:08<01:20, 29.59it/s]\u001b[A\n",
      "Downloading:  12%|█▏        | 324/2701 [00:08<01:20, 29.41it/s]\u001b[A\n",
      "Downloading:  12%|█▏        | 335/2701 [00:09<01:16, 31.08it/s]\u001b[A\n",
      "Downloading:  13%|█▎        | 339/2701 [00:09<01:30, 26.15it/s]\u001b[A\n",
      "Downloading:  13%|█▎        | 344/2701 [00:09<01:18, 30.16it/s]\u001b[A\n",
      "Downloading:  13%|█▎        | 348/2701 [00:09<01:12, 32.28it/s]\u001b[A\n",
      "Downloading:  13%|█▎        | 355/2701 [00:09<01:03, 37.03it/s]\u001b[A\n",
      "Downloading:  13%|█▎        | 363/2701 [00:09<01:02, 37.23it/s]\u001b[A\n",
      "Downloading:  14%|█▎        | 371/2701 [00:10<01:01, 37.70it/s]\u001b[A\n",
      "Downloading:  14%|█▍        | 377/2701 [00:10<00:59, 39.21it/s]\u001b[A\n",
      "Downloading:  14%|█▍        | 382/2701 [00:10<00:56, 41.24it/s]\u001b[A\n",
      "Downloading:  14%|█▍        | 388/2701 [00:10<01:04, 35.75it/s]\u001b[A\n",
      "Downloading:  15%|█▍        | 394/2701 [00:10<00:57, 40.12it/s]\u001b[A\n",
      "Downloading:  15%|█▍        | 400/2701 [00:11<01:05, 35.28it/s]\u001b[A\n",
      "Downloading:  15%|█▌        | 409/2701 [00:11<00:58, 39.24it/s]\u001b[A\n",
      "Downloading:  15%|█▌        | 414/2701 [00:11<00:55, 41.47it/s]\u001b[A\n",
      "Downloading:  16%|█▌        | 419/2701 [00:11<01:07, 33.93it/s]\u001b[A\n",
      "Downloading:  16%|█▌        | 429/2701 [00:11<01:00, 37.25it/s]\u001b[A\n",
      "Downloading:  16%|█▌        | 437/2701 [00:11<00:52, 43.15it/s]\u001b[A\n",
      "Downloading:  16%|█▋        | 445/2701 [00:12<01:02, 35.84it/s]\u001b[A\n",
      "Downloading:  17%|█▋        | 452/2701 [00:12<00:55, 40.70it/s]\u001b[A\n",
      "Downloading:  17%|█▋        | 457/2701 [00:12<00:53, 41.76it/s]\u001b[A\n",
      "Downloading:  17%|█▋        | 466/2701 [00:12<01:01, 36.63it/s]\u001b[A\n",
      "Downloading:  18%|█▊        | 473/2701 [00:12<00:52, 42.49it/s]\u001b[A\n",
      "Downloading:  18%|█▊        | 481/2701 [00:13<01:02, 35.63it/s]\u001b[A\n",
      "Downloading:  18%|█▊        | 492/2701 [00:13<00:56, 39.21it/s]\u001b[A\n",
      "Downloading:  18%|█▊        | 499/2701 [00:13<01:09, 31.90it/s]\u001b[A\n",
      "Downloading:  19%|█▊        | 506/2701 [00:13<00:59, 36.88it/s]\u001b[A\n",
      "Downloading:  19%|█▉        | 512/2701 [00:13<00:54, 39.83it/s]\u001b[A\n",
      "Downloading:  19%|█▉        | 519/2701 [00:14<01:07, 32.49it/s]\u001b[A\n",
      "Downloading:  20%|█▉        | 528/2701 [00:14<00:57, 37.57it/s]\u001b[A\n",
      "Downloading:  20%|█▉        | 534/2701 [00:14<01:03, 34.22it/s]\u001b[A\n",
      "Downloading:  20%|█▉        | 540/2701 [00:14<01:07, 32.21it/s]\u001b[A\n",
      "Downloading:  20%|██        | 546/2701 [00:14<00:58, 36.95it/s]\u001b[A\n",
      "Downloading:  20%|██        | 553/2701 [00:14<00:51, 41.99it/s]\u001b[A\n",
      "Downloading:  21%|██        | 558/2701 [00:15<01:17, 27.70it/s]\u001b[A\n",
      "Downloading:  21%|██        | 564/2701 [00:15<01:05, 32.71it/s]\u001b[A\n",
      "Downloading:  21%|██        | 573/2701 [00:15<00:54, 38.78it/s]\u001b[A\n",
      "Downloading:  21%|██▏       | 580/2701 [00:15<01:06, 31.93it/s]\u001b[A\n",
      "Downloading:  22%|██▏       | 590/2701 [00:15<00:59, 35.53it/s]\u001b[A\n",
      "Downloading:  22%|██▏       | 595/2701 [00:16<00:54, 38.67it/s]\u001b[A\n",
      "Downloading:  22%|██▏       | 602/2701 [00:16<01:05, 31.94it/s]\u001b[A\n",
      "Downloading:  23%|██▎       | 608/2701 [00:16<00:57, 36.66it/s]\u001b[A\n",
      "Downloading:  23%|██▎       | 616/2701 [00:16<00:48, 42.76it/s]\u001b[A\n",
      "Downloading:  23%|██▎       | 623/2701 [00:16<01:05, 31.73it/s]\u001b[A\n",
      "Downloading:  23%|██▎       | 630/2701 [00:17<00:55, 37.28it/s]\u001b[A\n",
      "Downloading:  24%|██▎       | 637/2701 [00:17<00:49, 41.75it/s]\u001b[A\n",
      "Downloading:  24%|██▍       | 644/2701 [00:17<01:02, 33.00it/s]\u001b[A\n",
      "Downloading:  24%|██▍       | 652/2701 [00:17<00:53, 37.95it/s]\u001b[A\n",
      "Downloading:  24%|██▍       | 657/2701 [00:17<00:51, 39.33it/s]\u001b[A\n",
      "Downloading:  25%|██▍       | 662/2701 [00:17<01:01, 32.90it/s]\u001b[A\n",
      "Downloading:  25%|██▍       | 667/2701 [00:18<00:57, 35.11it/s]\u001b[A\n",
      "Downloading:  25%|██▍       | 674/2701 [00:18<00:54, 37.34it/s]\u001b[A\n",
      "Downloading:  25%|██▌       | 679/2701 [00:18<00:51, 39.09it/s]\u001b[A\n",
      "Downloading:  25%|██▌       | 687/2701 [00:18<00:51, 39.01it/s]\u001b[A\n",
      "Downloading:  26%|██▌       | 692/2701 [00:18<00:48, 41.42it/s]\u001b[A\n",
      "Downloading:  26%|██▌       | 700/2701 [00:18<00:49, 40.58it/s]\u001b[A\n",
      "Downloading:  26%|██▌       | 706/2701 [00:19<00:55, 36.19it/s]\u001b[A\n",
      "Downloading:  26%|██▋       | 711/2701 [00:19<00:50, 39.18it/s]\u001b[A\n",
      "Downloading:  27%|██▋       | 716/2701 [00:19<00:50, 39.25it/s]\u001b[A\n",
      "Downloading:  27%|██▋       | 722/2701 [00:19<00:55, 35.60it/s]\u001b[A\n",
      "Downloading:  27%|██▋       | 726/2701 [00:19<00:54, 35.91it/s]\u001b[A\n",
      "Downloading:  27%|██▋       | 731/2701 [00:19<00:51, 38.59it/s]\u001b[A\n",
      "Downloading:  27%|██▋       | 736/2701 [00:19<00:48, 40.63it/s]\u001b[A\n",
      "Downloading:  27%|██▋       | 741/2701 [00:19<00:47, 41.54it/s]\u001b[A\n",
      "Downloading:  28%|██▊       | 747/2701 [00:20<00:52, 37.03it/s]\u001b[A\n",
      "Downloading:  28%|██▊       | 751/2701 [00:20<00:52, 37.48it/s]\u001b[A\n",
      "Downloading:  28%|██▊       | 756/2701 [00:20<00:49, 39.64it/s]\u001b[A\n",
      "Downloading:  28%|██▊       | 766/2701 [00:20<00:51, 37.29it/s]\u001b[A\n",
      "Downloading:  29%|██▊       | 772/2701 [00:20<00:50, 38.28it/s]\u001b[A\n",
      "Downloading:  29%|██▊       | 776/2701 [00:20<00:51, 37.51it/s]\u001b[A\n",
      "Downloading:  29%|██▉       | 781/2701 [00:21<01:01, 31.13it/s]\u001b[A\n",
      "Downloading:  29%|██▉       | 787/2701 [00:21<00:54, 35.36it/s]\u001b[A\n",
      "Downloading:  29%|██▉       | 793/2701 [00:21<00:50, 38.14it/s]\u001b[A\n",
      "Downloading:  30%|██▉       | 798/2701 [00:21<00:58, 32.51it/s]\u001b[A\n",
      "Downloading:  30%|██▉       | 807/2701 [00:21<00:54, 35.02it/s]\u001b[A\n",
      "Downloading:  30%|███       | 813/2701 [00:21<00:50, 37.29it/s]\u001b[A\n",
      "Downloading:  30%|███       | 819/2701 [00:22<00:55, 34.18it/s]\u001b[A\n",
      "Downloading:  30%|███       | 823/2701 [00:22<00:56, 33.48it/s]\u001b[A\n",
      "Downloading:  31%|███       | 830/2701 [00:22<00:49, 37.87it/s]\u001b[A\n",
      "Downloading:  31%|███       | 837/2701 [00:22<00:51, 36.53it/s]\u001b[A\n",
      "Downloading:  31%|███       | 842/2701 [00:22<00:47, 38.86it/s]\u001b[A\n",
      "Downloading:  31%|███▏      | 847/2701 [00:22<00:45, 41.09it/s]\u001b[A\n",
      "Downloading:  32%|███▏      | 852/2701 [00:22<00:43, 42.56it/s]\u001b[A\n",
      "Downloading:  32%|███▏      | 860/2701 [00:23<00:44, 41.08it/s]\u001b[A\n",
      "Downloading:  32%|███▏      | 869/2701 [00:23<00:44, 41.54it/s]\u001b[A\n",
      "Downloading:  32%|███▏      | 877/2701 [00:23<00:52, 34.90it/s]\u001b[A\n",
      "Downloading:  33%|███▎      | 885/2701 [00:23<00:51, 35.38it/s]\u001b[A\n",
      "Downloading:  33%|███▎      | 890/2701 [00:24<00:48, 37.47it/s]\u001b[A\n",
      "Downloading:  33%|███▎      | 895/2701 [00:24<00:55, 32.34it/s]\u001b[A\n",
      "Downloading:  33%|███▎      | 902/2701 [00:24<00:46, 38.29it/s]\u001b[A\n",
      "Downloading:  34%|███▎      | 907/2701 [00:24<00:44, 39.97it/s]\u001b[A\n",
      "Downloading:  34%|███▍      | 912/2701 [00:24<00:42, 42.03it/s]\u001b[A\n",
      "Downloading:  34%|███▍      | 922/2701 [00:24<00:46, 38.59it/s]\u001b[A\n",
      "Downloading:  34%|███▍      | 928/2701 [00:24<00:41, 42.60it/s]\u001b[A\n",
      "Downloading:  35%|███▍      | 935/2701 [00:25<00:44, 39.46it/s]\u001b[A\n",
      "Downloading:  35%|███▍      | 940/2701 [00:25<00:42, 41.55it/s]\u001b[A\n",
      "Downloading:  35%|███▌      | 949/2701 [00:25<00:42, 41.60it/s]\u001b[A\n",
      "Downloading:  35%|███▌      | 956/2701 [00:25<00:45, 38.63it/s]\u001b[A\n",
      "Downloading:  36%|███▌      | 962/2701 [00:25<00:41, 41.97it/s]\u001b[A\n",
      "Downloading:  36%|███▌      | 967/2701 [00:26<00:50, 34.16it/s]\u001b[A\n",
      "Downloading:  36%|███▌      | 974/2701 [00:26<00:42, 40.19it/s]\u001b[A\n",
      "Downloading:  36%|███▌      | 979/2701 [00:26<00:40, 42.19it/s]\u001b[A\n",
      "Downloading:  37%|███▋      | 990/2701 [00:26<00:42, 39.95it/s]\u001b[A\n",
      "Downloading:  37%|███▋      | 1000/2701 [00:26<00:40, 42.10it/s]\u001b[A\n",
      "Downloading:  37%|███▋      | 1009/2701 [00:27<00:45, 36.83it/s]\u001b[A\n",
      "Downloading:  38%|███▊      | 1017/2701 [00:27<00:45, 37.27it/s]\u001b[A\n",
      "Downloading:  38%|███▊      | 1021/2701 [00:27<00:45, 37.07it/s]\u001b[A\n",
      "Downloading:  38%|███▊      | 1025/2701 [00:27<00:45, 37.13it/s]\u001b[A\n",
      "Downloading:  38%|███▊      | 1031/2701 [00:27<00:40, 40.94it/s]\u001b[A\n",
      "Downloading:  38%|███▊      | 1038/2701 [00:27<00:45, 36.66it/s]\u001b[A\n",
      "Downloading:  39%|███▊      | 1043/2701 [00:27<00:43, 38.28it/s]\u001b[A\n",
      "Downloading:  39%|███▉      | 1049/2701 [00:28<00:38, 42.42it/s]\u001b[A\n",
      "Downloading:  39%|███▉      | 1056/2701 [00:28<00:42, 39.15it/s]\u001b[A\n",
      "Downloading:  39%|███▉      | 1064/2701 [00:28<00:42, 38.86it/s]\u001b[A\n",
      "Downloading:  40%|███▉      | 1071/2701 [00:28<00:44, 36.89it/s]\u001b[A\n",
      "Downloading:  40%|███▉      | 1075/2701 [00:28<00:45, 35.99it/s]\u001b[A\n",
      "Downloading:  40%|████      | 1082/2701 [00:28<00:38, 41.87it/s]\u001b[A\n",
      "Downloading:  40%|████      | 1089/2701 [00:29<00:41, 39.02it/s]\u001b[A\n",
      "Downloading:  41%|████      | 1096/2701 [00:29<00:43, 36.61it/s]\u001b[A\n",
      "Downloading:  41%|████      | 1103/2701 [00:29<00:38, 41.45it/s]\u001b[A\n",
      "Downloading:  41%|████      | 1109/2701 [00:29<00:43, 36.60it/s]\u001b[A\n",
      "Downloading:  41%|████▏     | 1117/2701 [00:29<00:42, 37.21it/s]\u001b[A\n",
      "Downloading:  42%|████▏     | 1121/2701 [00:30<00:43, 36.17it/s]\u001b[A\n",
      "Downloading:  42%|████▏     | 1126/2701 [00:30<00:42, 37.11it/s]\u001b[A\n",
      "Downloading:  42%|████▏     | 1135/2701 [00:30<00:40, 38.41it/s]\u001b[A\n",
      "Downloading:  42%|████▏     | 1141/2701 [00:30<00:37, 41.73it/s]\u001b[A\n",
      "Downloading:  42%|████▏     | 1146/2701 [00:30<00:36, 43.07it/s]\u001b[A\n",
      "Downloading:  43%|████▎     | 1154/2701 [00:30<00:43, 35.83it/s]\u001b[A\n",
      "Downloading:  43%|████▎     | 1161/2701 [00:31<00:37, 41.10it/s]\u001b[A\n",
      "Downloading:  43%|████▎     | 1168/2701 [00:31<00:40, 38.30it/s]\u001b[A\n",
      "Downloading:  44%|████▎     | 1177/2701 [00:31<00:38, 39.50it/s]\u001b[A\n",
      "Downloading:  44%|████▍     | 1182/2701 [00:31<00:45, 33.07it/s]\u001b[A\n",
      "Downloading:  44%|████▍     | 1186/2701 [00:31<00:44, 34.43it/s]\u001b[A\n",
      "Downloading:  44%|████▍     | 1192/2701 [00:31<00:38, 38.89it/s]\u001b[A\n",
      "Downloading:  44%|████▍     | 1201/2701 [00:32<00:37, 39.62it/s]\u001b[A\n",
      "Downloading:  45%|████▍     | 1210/2701 [00:32<00:36, 40.52it/s]\u001b[A\n",
      "Downloading:  45%|████▍     | 1215/2701 [00:32<00:35, 41.90it/s]\u001b[A\n",
      "Downloading:  45%|████▌     | 1220/2701 [00:32<00:43, 34.31it/s]\u001b[A\n",
      "Downloading:  46%|████▌     | 1232/2701 [00:32<00:37, 38.96it/s]\u001b[A\n",
      "Downloading:  46%|████▌     | 1240/2701 [00:33<00:37, 38.74it/s]\u001b[A\n",
      "Downloading:  46%|████▌     | 1245/2701 [00:33<00:45, 32.33it/s]\u001b[A\n",
      "Downloading:  46%|████▋     | 1254/2701 [00:33<00:36, 39.73it/s]\u001b[A\n",
      "Downloading:  47%|████▋     | 1264/2701 [00:33<00:38, 36.90it/s]\u001b[A\n",
      "Downloading:  47%|████▋     | 1271/2701 [00:33<00:39, 36.03it/s]\u001b[A\n",
      "Downloading:  47%|████▋     | 1281/2701 [00:34<00:37, 37.39it/s]\u001b[A\n",
      "Downloading:  48%|████▊     | 1286/2701 [00:34<00:35, 39.55it/s]\u001b[A\n",
      "Downloading:  48%|████▊     | 1291/2701 [00:34<00:42, 33.13it/s]\u001b[A\n",
      "Downloading:  48%|████▊     | 1297/2701 [00:34<00:37, 37.08it/s]\u001b[A\n",
      "Downloading:  48%|████▊     | 1303/2701 [00:34<00:40, 34.14it/s]\u001b[A\n",
      "Downloading:  48%|████▊     | 1309/2701 [00:34<00:35, 39.02it/s]\u001b[A\n",
      "Downloading:  49%|████▊     | 1316/2701 [00:35<00:37, 37.11it/s]\u001b[A\n",
      "Downloading:  49%|████▉     | 1323/2701 [00:35<00:38, 35.93it/s]\u001b[A\n",
      "Downloading:  49%|████▉     | 1329/2701 [00:35<00:33, 40.48it/s]\u001b[A\n",
      "Downloading:  49%|████▉     | 1334/2701 [00:35<00:40, 33.87it/s]\u001b[A\n",
      "Downloading:  50%|████▉     | 1344/2701 [00:35<00:37, 36.36it/s]\u001b[A\n",
      "Downloading:  50%|████▉     | 1350/2701 [00:35<00:37, 36.15it/s]\u001b[A\n",
      "Downloading:  50%|█████     | 1354/2701 [00:36<00:39, 34.24it/s]\u001b[A\n",
      "Downloading:  50%|█████     | 1358/2701 [00:36<00:38, 35.06it/s]\u001b[A\n",
      "Downloading:  50%|█████     | 1362/2701 [00:36<00:37, 35.58it/s]\u001b[A\n",
      "Downloading:  51%|█████     | 1369/2701 [00:36<00:32, 40.36it/s]\u001b[A\n",
      "Downloading:  51%|█████     | 1375/2701 [00:36<00:36, 35.87it/s]\u001b[A\n",
      "Downloading:  51%|█████     | 1381/2701 [00:36<00:32, 40.51it/s]\u001b[A\n",
      "Downloading:  51%|█████▏    | 1389/2701 [00:36<00:33, 39.02it/s]\u001b[A\n",
      "Downloading:  52%|█████▏    | 1395/2701 [00:37<00:31, 41.53it/s]\u001b[A\n",
      "Downloading:  52%|█████▏    | 1400/2701 [00:37<00:30, 42.87it/s]\u001b[A\n",
      "Downloading:  52%|█████▏    | 1407/2701 [00:37<00:32, 39.38it/s]\u001b[A\n",
      "Downloading:  52%|█████▏    | 1416/2701 [00:37<00:32, 39.91it/s]\u001b[A\n",
      "Downloading:  53%|█████▎    | 1422/2701 [00:37<00:29, 43.45it/s]\u001b[A\n",
      "Downloading:  53%|█████▎    | 1427/2701 [00:37<00:36, 35.09it/s]\u001b[A\n",
      "Downloading:  53%|█████▎    | 1431/2701 [00:38<00:35, 35.41it/s]\u001b[A\n",
      "Downloading:  53%|█████▎    | 1435/2701 [00:38<00:34, 36.41it/s]\u001b[A\n",
      "Downloading:  53%|█████▎    | 1442/2701 [00:38<00:30, 41.87it/s]\u001b[A\n",
      "Downloading:  54%|█████▎    | 1447/2701 [00:38<00:29, 42.43it/s]\u001b[A\n",
      "Downloading:  54%|█████▍    | 1455/2701 [00:38<00:35, 35.55it/s]\u001b[A\n",
      "Downloading:  54%|█████▍    | 1461/2701 [00:38<00:31, 39.94it/s]\u001b[A\n",
      "Downloading:  54%|█████▍    | 1467/2701 [00:38<00:28, 43.78it/s]\u001b[A\n",
      "Downloading:  54%|█████▍    | 1472/2701 [00:39<00:34, 35.27it/s]\u001b[A\n",
      "Downloading:  55%|█████▍    | 1481/2701 [00:39<00:33, 36.96it/s]\u001b[A\n",
      "Downloading:  55%|█████▌    | 1488/2701 [00:39<00:30, 39.78it/s]\u001b[A\n",
      "Downloading:  55%|█████▌    | 1494/2701 [00:39<00:34, 35.23it/s]\u001b[A\n",
      "Downloading:  55%|█████▌    | 1498/2701 [00:39<00:33, 35.74it/s]\u001b[A\n",
      "Downloading:  56%|█████▌    | 1505/2701 [00:39<00:28, 41.72it/s]\u001b[A\n",
      "Downloading:  56%|█████▌    | 1510/2701 [00:40<00:34, 34.20it/s]\u001b[A\n",
      "Downloading:  56%|█████▌    | 1519/2701 [00:40<00:32, 35.86it/s]\u001b[A\n",
      "Downloading:  56%|█████▋    | 1525/2701 [00:40<00:29, 39.91it/s]\u001b[A\n",
      "Downloading:  57%|█████▋    | 1535/2701 [00:40<00:31, 37.39it/s]\u001b[A\n",
      "Downloading:  57%|█████▋    | 1543/2701 [00:40<00:26, 43.26it/s]\u001b[A\n",
      "Downloading:  57%|█████▋    | 1548/2701 [00:41<00:40, 28.60it/s]\u001b[A\n",
      "Downloading:  58%|█████▊    | 1556/2701 [00:41<00:33, 34.62it/s]\u001b[A\n",
      "Downloading:  58%|█████▊    | 1563/2701 [00:41<00:32, 35.50it/s]\u001b[A\n",
      "Downloading:  58%|█████▊    | 1571/2701 [00:41<00:35, 32.09it/s]\u001b[A\n",
      "Downloading:  58%|█████▊    | 1575/2701 [00:41<00:33, 33.36it/s]\u001b[A\n",
      "Downloading:  59%|█████▊    | 1582/2701 [00:42<00:29, 38.15it/s]\u001b[A\n",
      "Downloading:  59%|█████▉    | 1588/2701 [00:42<00:32, 34.76it/s]\u001b[A\n",
      "Downloading:  59%|█████▉    | 1592/2701 [00:42<00:31, 35.09it/s]\u001b[A\n",
      "Downloading:  59%|█████▉    | 1597/2701 [00:42<00:29, 37.82it/s]\u001b[A\n",
      "Downloading:  59%|█████▉    | 1604/2701 [00:42<00:25, 43.61it/s]\u001b[A\n",
      "Downloading:  60%|█████▉    | 1609/2701 [00:42<00:31, 34.81it/s]\u001b[A\n",
      "Downloading:  60%|█████▉    | 1620/2701 [00:42<00:27, 38.75it/s]\u001b[A\n",
      "Downloading:  60%|██████    | 1627/2701 [00:43<00:29, 36.68it/s]\u001b[A\n",
      "Downloading:  60%|██████    | 1632/2701 [00:43<00:33, 31.57it/s]\u001b[A\n",
      "Downloading:  61%|██████    | 1639/2701 [00:43<00:28, 37.15it/s]\u001b[A\n",
      "Downloading:  61%|██████    | 1646/2701 [00:43<00:26, 40.49it/s]\u001b[A\n",
      "Downloading:  61%|██████    | 1651/2701 [00:43<00:31, 33.65it/s]\u001b[A\n",
      "Downloading:  61%|██████▏   | 1656/2701 [00:43<00:28, 36.15it/s]\u001b[A\n",
      "Downloading:  62%|██████▏   | 1665/2701 [00:44<00:27, 37.88it/s]\u001b[A\n",
      "Downloading:  62%|██████▏   | 1670/2701 [00:44<00:25, 39.67it/s]\u001b[A\n",
      "Downloading:  62%|██████▏   | 1677/2701 [00:44<00:27, 37.34it/s]\u001b[A\n",
      "Downloading:  62%|██████▏   | 1683/2701 [00:44<00:30, 33.78it/s]\u001b[A\n",
      "Downloading:  63%|██████▎   | 1690/2701 [00:44<00:25, 39.19it/s]\u001b[A\n",
      "Downloading:  63%|██████▎   | 1697/2701 [00:45<00:28, 34.88it/s]\u001b[A\n",
      "Downloading:  63%|██████▎   | 1701/2701 [00:45<00:28, 35.67it/s]\u001b[A\n",
      "Downloading:  63%|██████▎   | 1705/2701 [00:45<00:27, 36.15it/s]\u001b[A\n",
      "Downloading:  63%|██████▎   | 1712/2701 [00:45<00:25, 38.27it/s]\u001b[A\n",
      "Downloading:  64%|██████▎   | 1720/2701 [00:45<00:25, 38.29it/s]\u001b[A\n",
      "Downloading:  64%|██████▍   | 1727/2701 [00:45<00:26, 36.69it/s]\u001b[A\n",
      "Downloading:  64%|██████▍   | 1734/2701 [00:46<00:27, 35.64it/s]\u001b[A\n",
      "Downloading:  64%|██████▍   | 1740/2701 [00:46<00:23, 40.28it/s]\u001b[A\n",
      "Downloading:  65%|██████▍   | 1745/2701 [00:46<00:28, 33.52it/s]\u001b[A\n",
      "Downloading:  65%|██████▍   | 1750/2701 [00:46<00:32, 29.35it/s]\u001b[A\n",
      "Downloading:  65%|██████▌   | 1756/2701 [00:46<00:28, 33.04it/s]\u001b[A\n",
      "Downloading:  65%|██████▌   | 1764/2701 [00:46<00:25, 36.42it/s]\u001b[A\n",
      "Downloading:  65%|██████▌   | 1769/2701 [00:47<00:29, 31.19it/s]\u001b[A\n",
      "Downloading:  66%|██████▌   | 1775/2701 [00:47<00:30, 30.46it/s]\u001b[A\n",
      "Downloading:  66%|██████▌   | 1779/2701 [00:47<00:28, 32.01it/s]\u001b[A\n",
      "Downloading:  66%|██████▌   | 1783/2701 [00:47<00:27, 33.47it/s]\u001b[A\n",
      "Downloading:  66%|██████▋   | 1791/2701 [00:47<00:26, 34.46it/s]\u001b[A\n",
      "Downloading:  66%|██████▋   | 1796/2701 [00:47<00:24, 36.28it/s]\u001b[A\n",
      "Downloading:  67%|██████▋   | 1800/2701 [00:47<00:24, 36.45it/s]\u001b[A\n",
      "Downloading:  67%|██████▋   | 1805/2701 [00:48<00:28, 31.72it/s]\u001b[A\n",
      "Downloading:  67%|██████▋   | 1810/2701 [00:48<00:25, 35.00it/s]\u001b[A\n",
      "Downloading:  67%|██████▋   | 1815/2701 [00:48<00:23, 37.23it/s]\u001b[A\n",
      "Downloading:  67%|██████▋   | 1821/2701 [00:48<00:25, 34.25it/s]\u001b[A\n",
      "Downloading:  68%|██████▊   | 1827/2701 [00:48<00:22, 38.84it/s]\u001b[A\n",
      "Downloading:  68%|██████▊   | 1836/2701 [00:48<00:21, 40.01it/s]\u001b[A\n",
      "Downloading:  68%|██████▊   | 1841/2701 [00:49<00:25, 33.30it/s]\u001b[A\n",
      "Downloading:  69%|██████▊   | 1851/2701 [00:49<00:23, 36.55it/s]\u001b[A\n",
      "Downloading:  69%|██████▊   | 1856/2701 [00:49<00:26, 31.75it/s]\u001b[A\n",
      "Downloading:  69%|██████▉   | 1865/2701 [00:49<00:24, 34.07it/s]\u001b[A\n",
      "Downloading:  69%|██████▉   | 1869/2701 [00:49<00:23, 35.26it/s]\u001b[A\n",
      "Downloading:  69%|██████▉   | 1874/2701 [00:50<00:26, 30.69it/s]\u001b[A\n",
      "Downloading:  70%|██████▉   | 1879/2701 [00:50<00:24, 33.26it/s]\u001b[A\n",
      "Downloading:  70%|██████▉   | 1884/2701 [00:50<00:22, 36.44it/s]\u001b[A\n",
      "Downloading:  70%|██████▉   | 1889/2701 [00:50<00:20, 38.92it/s]\u001b[A\n",
      "Downloading:  70%|███████   | 1898/2701 [00:50<00:22, 35.21it/s]\u001b[A\n",
      "Downloading:  71%|███████   | 1905/2701 [00:50<00:19, 40.78it/s]\u001b[A\n",
      "Downloading:  71%|███████   | 1912/2701 [00:51<00:21, 36.76it/s]\u001b[A\n",
      "Downloading:  71%|███████   | 1923/2701 [00:51<00:21, 36.56it/s]\u001b[A\n",
      "Downloading:  71%|███████▏  | 1927/2701 [00:51<00:21, 36.68it/s]\u001b[A\n",
      "Downloading:  72%|███████▏  | 1932/2701 [00:51<00:24, 31.42it/s]\u001b[A\n",
      "Downloading:  72%|███████▏  | 1939/2701 [00:51<00:20, 37.02it/s]\u001b[A\n",
      "Downloading:  72%|███████▏  | 1946/2701 [00:51<00:17, 42.04it/s]\u001b[A\n",
      "Downloading:  72%|███████▏  | 1952/2701 [00:52<00:23, 31.24it/s]\u001b[A\n",
      "Downloading:  72%|███████▏  | 1956/2701 [00:52<00:22, 32.52it/s]\u001b[A\n",
      "Downloading:  73%|███████▎  | 1967/2701 [00:52<00:20, 36.64it/s]\u001b[A\n",
      "Downloading:  73%|███████▎  | 1973/2701 [00:52<00:21, 34.10it/s]\u001b[A\n",
      "Downloading:  73%|███████▎  | 1977/2701 [00:52<00:20, 35.02it/s]\u001b[A\n",
      "Downloading:  74%|███████▎  | 1988/2701 [00:53<00:18, 38.32it/s]\u001b[A\n",
      "Downloading:  74%|███████▍  | 1995/2701 [00:53<00:22, 31.74it/s]\u001b[A\n",
      "Downloading:  74%|███████▍  | 2003/2701 [00:53<00:18, 38.42it/s]\u001b[A\n",
      "Downloading:  74%|███████▍  | 2008/2701 [00:53<00:16, 40.98it/s]\u001b[A\n",
      "Downloading:  75%|███████▍  | 2017/2701 [00:53<00:18, 36.55it/s]\u001b[A\n",
      "Downloading:  75%|███████▍  | 2022/2701 [00:54<00:17, 39.02it/s]\u001b[A\n",
      "Downloading:  75%|███████▌  | 2029/2701 [00:54<00:17, 38.91it/s]\u001b[A\n",
      "Downloading:  75%|███████▌  | 2037/2701 [00:54<00:17, 38.79it/s]\u001b[A\n",
      "Downloading:  76%|███████▌  | 2047/2701 [00:54<00:15, 41.09it/s]\u001b[A\n",
      "Downloading:  76%|███████▌  | 2054/2701 [00:54<00:16, 38.67it/s]\u001b[A\n",
      "Downloading:  76%|███████▋  | 2060/2701 [00:55<00:18, 35.06it/s]\u001b[A\n",
      "Downloading:  76%|███████▋  | 2065/2701 [00:55<00:16, 37.93it/s]\u001b[A\n",
      "Downloading:  77%|███████▋  | 2070/2701 [00:55<00:15, 40.22it/s]\u001b[A\n",
      "Downloading:  77%|███████▋  | 2077/2701 [00:55<00:16, 38.05it/s]\u001b[A\n",
      "Downloading:  77%|███████▋  | 2087/2701 [00:55<00:15, 40.60it/s]\u001b[A\n",
      "Downloading:  78%|███████▊  | 2094/2701 [00:55<00:16, 37.29it/s]\u001b[A\n",
      "Downloading:  78%|███████▊  | 2101/2701 [00:56<00:16, 35.75it/s]\u001b[A\n",
      "Downloading:  78%|███████▊  | 2107/2701 [00:56<00:14, 40.06it/s]\u001b[A\n",
      "Downloading:  78%|███████▊  | 2113/2701 [00:56<00:16, 34.61it/s]\u001b[A\n",
      "Downloading:  78%|███████▊  | 2117/2701 [00:56<00:16, 35.74it/s]\u001b[A\n",
      "Downloading:  79%|███████▊  | 2123/2701 [00:56<00:14, 40.14it/s]\u001b[A\n",
      "Downloading:  79%|███████▉  | 2128/2701 [00:56<00:13, 42.12it/s]\u001b[A\n",
      "Downloading:  79%|███████▉  | 2133/2701 [00:56<00:16, 34.36it/s]\u001b[A\n",
      "Downloading:  79%|███████▉  | 2137/2701 [00:57<00:15, 35.30it/s]\u001b[A\n",
      "Downloading:  79%|███████▉  | 2141/2701 [00:57<00:15, 36.26it/s]\u001b[A\n",
      "Downloading:  80%|███████▉  | 2150/2701 [00:57<00:13, 42.29it/s]\u001b[A\n",
      "Downloading:  80%|███████▉  | 2155/2701 [00:57<00:19, 28.16it/s]\u001b[A\n",
      "Downloading:  80%|███████▉  | 2160/2701 [00:57<00:16, 32.20it/s]\u001b[A\n",
      "Downloading:  80%|████████  | 2166/2701 [00:57<00:14, 37.07it/s]\u001b[A\n",
      "Downloading:  80%|████████  | 2171/2701 [00:57<00:13, 39.71it/s]\u001b[A\n",
      "Downloading:  81%|████████  | 2178/2701 [00:58<00:14, 35.74it/s]\u001b[A\n",
      "Downloading:  81%|████████  | 2187/2701 [00:58<00:13, 37.78it/s]\u001b[A\n",
      "Downloading:  81%|████████  | 2193/2701 [00:58<00:15, 33.53it/s]\u001b[A\n",
      "Downloading:  81%|████████▏ | 2201/2701 [00:58<00:14, 34.89it/s]\u001b[A\n",
      "Downloading:  82%|████████▏ | 2205/2701 [00:58<00:14, 34.56it/s]\u001b[A\n",
      "Downloading:  82%|████████▏ | 2210/2701 [00:59<00:13, 37.34it/s]\u001b[A\n",
      "Downloading:  82%|████████▏ | 2216/2701 [00:59<00:14, 34.39it/s]\u001b[A\n",
      "Downloading:  82%|████████▏ | 2220/2701 [00:59<00:13, 35.10it/s]\u001b[A\n",
      "Downloading:  82%|████████▏ | 2226/2701 [00:59<00:12, 38.79it/s]\u001b[A\n",
      "Downloading:  83%|████████▎ | 2232/2701 [00:59<00:13, 35.04it/s]\u001b[A\n",
      "Downloading:  83%|████████▎ | 2239/2701 [00:59<00:13, 34.53it/s]\u001b[A\n",
      "Downloading:  83%|████████▎ | 2245/2701 [01:00<00:11, 39.31it/s]\u001b[A\n",
      "Downloading:  83%|████████▎ | 2251/2701 [01:00<00:12, 35.29it/s]\u001b[A\n",
      "Downloading:  83%|████████▎ | 2255/2701 [01:00<00:12, 36.01it/s]\u001b[A\n",
      "Downloading:  84%|████████▎ | 2259/2701 [01:00<00:12, 36.71it/s]\u001b[A\n",
      "Downloading:  84%|████████▍ | 2267/2701 [01:00<00:10, 42.34it/s]\u001b[A\n",
      "Downloading:  84%|████████▍ | 2274/2701 [01:00<00:12, 33.47it/s]\u001b[A\n",
      "Downloading:  84%|████████▍ | 2281/2701 [01:00<00:10, 38.75it/s]\u001b[A\n",
      "Downloading:  85%|████████▍ | 2291/2701 [01:01<00:11, 36.33it/s]\u001b[A\n",
      "Downloading:  85%|████████▌ | 2300/2701 [01:01<00:10, 38.01it/s]\u001b[A\n",
      "Downloading:  85%|████████▌ | 2307/2701 [01:01<00:10, 35.87it/s]\u001b[A\n",
      "Downloading:  86%|████████▌ | 2314/2701 [01:01<00:10, 35.20it/s]\u001b[A\n",
      "Downloading:  86%|████████▌ | 2318/2701 [01:02<00:10, 35.91it/s]\u001b[A\n",
      "Downloading:  86%|████████▌ | 2322/2701 [01:02<00:10, 36.71it/s]\u001b[A\n",
      "Downloading:  86%|████████▌ | 2328/2701 [01:02<00:09, 40.70it/s]\u001b[A\n",
      "Downloading:  86%|████████▋ | 2336/2701 [01:02<00:09, 39.37it/s]\u001b[A\n",
      "Downloading:  87%|████████▋ | 2344/2701 [01:02<00:09, 39.13it/s]\u001b[A\n",
      "Downloading:  87%|████████▋ | 2351/2701 [01:02<00:09, 36.82it/s]\u001b[A\n",
      "Downloading:  87%|████████▋ | 2356/2701 [01:03<00:08, 38.89it/s]\u001b[A\n",
      "Downloading:  87%|████████▋ | 2360/2701 [01:03<00:08, 38.30it/s]\u001b[A\n",
      "Downloading:  88%|████████▊ | 2366/2701 [01:03<00:09, 34.91it/s]\u001b[A\n",
      "Downloading:  88%|████████▊ | 2371/2701 [01:03<00:08, 37.76it/s]\u001b[A\n",
      "Downloading:  88%|████████▊ | 2380/2701 [01:03<00:08, 38.61it/s]\u001b[A\n",
      "Downloading:  88%|████████▊ | 2388/2701 [01:03<00:08, 38.53it/s]\u001b[A\n",
      "Downloading:  89%|████████▊ | 2392/2701 [01:03<00:08, 38.23it/s]\u001b[A\n",
      "Downloading:  89%|████████▉ | 2398/2701 [01:04<00:08, 34.80it/s]\u001b[A\n",
      "Downloading:  89%|████████▉ | 2405/2701 [01:04<00:07, 39.82it/s]\u001b[A\n",
      "Downloading:  89%|████████▉ | 2411/2701 [01:04<00:06, 42.59it/s]\u001b[A\n",
      "Downloading:  90%|████████▉ | 2419/2701 [01:04<00:07, 35.53it/s]\u001b[A\n",
      "Downloading:  90%|████████▉ | 2425/2701 [01:04<00:06, 39.97it/s]\u001b[A\n",
      "Downloading:  90%|█████████ | 2431/2701 [01:04<00:06, 41.12it/s]\u001b[A\n",
      "Downloading:  90%|█████████ | 2437/2701 [01:05<00:07, 36.73it/s]\u001b[A\n",
      "Downloading:  90%|█████████ | 2443/2701 [01:05<00:06, 41.04it/s]\u001b[A\n",
      "Downloading:  91%|█████████ | 2449/2701 [01:05<00:05, 42.66it/s]\u001b[A\n",
      "Downloading:  91%|█████████ | 2459/2701 [01:05<00:06, 38.69it/s]\u001b[A\n",
      "Downloading:  91%|█████████ | 2464/2701 [01:05<00:06, 39.48it/s]\u001b[A\n",
      "Downloading:  91%|█████████▏| 2469/2701 [01:05<00:05, 41.40it/s]\u001b[A\n",
      "Downloading:  92%|█████████▏| 2479/2701 [01:06<00:05, 37.94it/s]\u001b[A\n",
      "Downloading:  92%|█████████▏| 2486/2701 [01:06<00:05, 36.34it/s]\u001b[A\n",
      "Downloading:  92%|█████████▏| 2490/2701 [01:06<00:05, 36.01it/s]\u001b[A\n",
      "Downloading:  93%|█████████▎| 2499/2701 [01:06<00:05, 36.82it/s]\u001b[A\n",
      "Downloading:  93%|█████████▎| 2503/2701 [01:06<00:05, 36.94it/s]\u001b[A\n",
      "Downloading:  93%|█████████▎| 2507/2701 [01:07<00:05, 36.35it/s]\u001b[A\n",
      "Downloading:  93%|█████████▎| 2513/2701 [01:07<00:05, 33.90it/s]\u001b[A\n",
      "Downloading:  93%|█████████▎| 2522/2701 [01:07<00:04, 36.39it/s]\u001b[A\n",
      "Downloading:  94%|█████████▎| 2527/2701 [01:07<00:04, 38.92it/s]\u001b[A\n",
      "Downloading:  94%|█████████▍| 2533/2701 [01:07<00:04, 35.23it/s]\u001b[A\n",
      "Downloading:  94%|█████████▍| 2545/2701 [01:07<00:03, 39.98it/s]\u001b[A\n",
      "Downloading:  94%|█████████▍| 2551/2701 [01:08<00:04, 36.02it/s]\u001b[A\n",
      "Downloading:  95%|█████████▍| 2556/2701 [01:08<00:04, 31.36it/s]\u001b[A\n",
      "Downloading:  95%|█████████▍| 2565/2701 [01:08<00:03, 37.50it/s]\u001b[A\n",
      "Downloading:  95%|█████████▌| 2570/2701 [01:08<00:03, 38.12it/s]\u001b[A\n",
      "Downloading:  95%|█████████▌| 2575/2701 [01:08<00:03, 32.21it/s]\u001b[A\n",
      "Downloading:  95%|█████████▌| 2579/2701 [01:08<00:03, 33.45it/s]\u001b[A\n",
      "Downloading:  96%|█████████▌| 2589/2701 [01:09<00:02, 38.82it/s]\u001b[A\n",
      "Downloading:  96%|█████████▌| 2598/2701 [01:09<00:02, 34.91it/s]\u001b[A\n",
      "Downloading:  96%|█████████▋| 2604/2701 [01:09<00:02, 38.08it/s]\u001b[A\n",
      "Downloading:  97%|█████████▋| 2611/2701 [01:09<00:02, 43.52it/s]\u001b[A\n",
      "Downloading:  97%|█████████▋| 2616/2701 [01:09<00:02, 34.38it/s]\u001b[A\n",
      "Downloading:  97%|█████████▋| 2622/2701 [01:09<00:02, 38.97it/s]\u001b[A\n",
      "Downloading:  97%|█████████▋| 2628/2701 [01:10<00:01, 41.81it/s]\u001b[A\n",
      "Downloading:  98%|█████████▊| 2635/2701 [01:10<00:01, 37.29it/s]\u001b[A\n",
      "Downloading:  98%|█████████▊| 2642/2701 [01:10<00:01, 35.98it/s]\u001b[A\n",
      "Downloading:  98%|█████████▊| 2647/2701 [01:10<00:01, 38.46it/s]\u001b[A\n",
      "Downloading:  98%|█████████▊| 2656/2701 [01:10<00:01, 39.47it/s]\u001b[A\n",
      "Downloading:  99%|█████████▊| 2661/2701 [01:11<00:01, 32.79it/s]\u001b[A\n",
      "Downloading:  99%|█████████▊| 2666/2701 [01:11<00:00, 36.28it/s]\u001b[A\n",
      "Downloading:  99%|█████████▉| 2672/2701 [01:11<00:00, 38.55it/s]\u001b[A\n",
      "Downloading:  99%|█████████▉| 2679/2701 [01:11<00:00, 40.07it/s]\u001b[A\n",
      "Downloading:  99%|█████████▉| 2686/2701 [01:11<00:00, 37.51it/s]\u001b[A\n",
      "Downloading: 100%|█████████▉| 2690/2701 [01:11<00:00, 37.12it/s]\u001b[A\n",
      "Downloading: 100%|█████████▉| 2698/2701 [01:12<00:00, 39.01it/s]\u001b[A\n",
      "Downloading: 5400it [01:12, 74.29it/s]                          \u001b[A\n",
      "\n",
      "Decoding Mesh Buffer:   0%|          | 0/2701 [00:00<?, ?it/s]\u001b[A\n",
      "Decoding Mesh Buffer: 100%|██████████| 2701/2701 [00:00<00:00, 14449.58it/s]\u001b[A\n",
      "Downloading Meshes: 100%|██████████| 1/1 [01:31<00:00, 91.63s/it]\n"
     ]
    }
   ],
   "source": [
    "mesh = mm.mesh(seg_id = 648518346349537426)"
   ]
  },
  {
   "cell_type": "code",
   "execution_count": 5,
   "metadata": {},
   "outputs": [],
   "source": [
    "from meshparty import trimesh_vtk\n",
    "ma = trimesh_vtk.mesh_actor(mesh, opacity=0.5, color=(0.5, 0.5, 0.5))\n",
    "# trimesh_vtk.render_actors([ma])"
   ]
  },
  {
   "cell_type": "code",
   "execution_count": null,
   "metadata": {},
   "outputs": [],
   "source": [
    "ind = np.array([40300])\n",
    "pca = trimesh_vtk.point_cloud_actor(mesh.vertices[ind], size=1000, opacity=0.4, color=(1,0,0))\n",
    "trimesh_vtk.render_actors([ma, pca])"
   ]
  },
  {
   "cell_type": "code",
   "execution_count": null,
   "metadata": {},
   "outputs": [],
   "source": [
    "import trimesh.ray\n",
    "from trimesh.ray import ray_pyembree\n",
    "\n",
    "ray_inter = ray_pyembree.RayMeshIntersector(mesh)"
   ]
  },
  {
   "cell_type": "code",
   "execution_count": null,
   "metadata": {},
   "outputs": [],
   "source": [
    "starts = (mesh.vertices-mesh.vertex_normals)[ind,:]"
   ]
  },
  {
   "cell_type": "code",
   "execution_count": null,
   "metadata": {},
   "outputs": [],
   "source": [
    "vs = -mesh.vertex_normals[ind,:]"
   ]
  },
  {
   "cell_type": "code",
   "execution_count": null,
   "metadata": {},
   "outputs": [],
   "source": [
    "rtrace = ray_inter.intersects_location(starts, vs, multiple_hits=False)"
   ]
  },
  {
   "cell_type": "code",
   "execution_count": null,
   "metadata": {},
   "outputs": [],
   "source": [
    "np.linalg.norm(mesh.vertices[ind[rtrace[1]]] - rtrace[0], axis=1)"
   ]
  },
  {
   "cell_type": "code",
   "execution_count": null,
   "metadata": {},
   "outputs": [],
   "source": [
    "mesh.face_normals[rtrace[2]]"
   ]
  },
  {
   "cell_type": "code",
   "execution_count": null,
   "metadata": {},
   "outputs": [],
   "source": [
    "vs[0,:]"
   ]
  },
  {
   "cell_type": "code",
   "execution_count": null,
   "metadata": {},
   "outputs": [],
   "source": [
    "costh = np.dot( vs[0,:], mesh.face_normals[rtrace[2],:].T )"
   ]
  },
  {
   "cell_type": "code",
   "execution_count": null,
   "metadata": {},
   "outputs": [],
   "source": [
    "weight = 1/np.arccos(costh)"
   ]
  },
  {
   "cell_type": "code",
   "execution_count": null,
   "metadata": {},
   "outputs": [],
   "source": [
    "weight"
   ]
  },
  {
   "cell_type": "code",
   "execution_count": null,
   "metadata": {},
   "outputs": [],
   "source": [
    " mesh.face_normals[rtrace[2],:]"
   ]
  },
  {
   "cell_type": "code",
   "execution_count": null,
   "metadata": {},
   "outputs": [],
   "source": [
    "from scipy.constants import golden_ratio"
   ]
  },
  {
   "cell_type": "code",
   "execution_count": null,
   "metadata": {},
   "outputs": [],
   "source": [
    "golden_ratio"
   ]
  },
  {
   "cell_type": "code",
   "execution_count": 107,
   "metadata": {},
   "outputs": [],
   "source": [
    "from trimesh.ray import ray_pyembree\n",
    "from scipy.linalg import block_diag\n",
    "\n",
    "def vogel_disk_sampler(num_points, radius=1):\n",
    "\n",
    "    golden_angle = np.pi * (3 - np.sqrt(5))\n",
    "    thetas = golden_angle * np.arange(num_points)\n",
    "    radii = radius * np.sqrt(np.arange(num_points)/num_points)\n",
    "\n",
    "    xs = radii * np.cos(thetas)\n",
    "    ys = radii * np.sin(thetas)\n",
    "    \n",
    "    return xs, ys\n",
    "\n",
    "def unit_vector_sampler(num_points, widest_angle=np.pi/3):\n",
    "    if np.abs(widest_angle) > np.pi:\n",
    "        print('')\n",
    "        return None\n",
    "    xs, ys = vogel_disk_sampler(num_points, radius=1)\n",
    "    zs = 1/np.tan(widest_angle) * np.ones(num_points)\n",
    "    Vs = np.vstack((xs, ys, zs)).T\n",
    "    return Vs / np.linalg.norm(Vs, axis=1)[:, np.newaxis]\n",
    "\n",
    "def Rx( ang ):\n",
    "    return np.array([[1, 0, 0],\n",
    "                     [0, np.cos(ang), -np.sin(ang)],\n",
    "                     [0, np.sin(ang), np.cos(ang)]])\n",
    "\n",
    "def Ry( ang ):\n",
    "    return np.array([[np.cos(ang), 0, np.sin(ang)],\n",
    "                     [0,           1,       0    ],\n",
    "                     [-np.sin(ang),0, np.cos(ang)]])\n",
    "\n",
    "def Rz( ang ):\n",
    "    return np.array([[np.cos(ang), -np.sin(ang), 0],\n",
    "                     [np.sin(ang), np.cos(ang), 0],\n",
    "                     [0,  0, 1]])\n",
    "\n",
    "def vec_actor(vec, origin=np.array([0,0,0]), color=(0,0,0), linewidth=2, opacity=1):\n",
    "    if type(vec) is list:\n",
    "        vec=np.array(vec)\n",
    "    return trimesh_vtk.linked_point_actor(origin.reshape(1,3),\n",
    "                                              origin+vec.reshape(1,3), line_width=linewidth,\n",
    "                                              color=color, opacity=opacity)\n",
    "\n",
    "import multiwrapper.multiprocessing_utils as mu\n",
    "\n",
    "def _rotated_cone(data):\n",
    "    phi, theta, vs_raw = data\n",
    "    Rtrans = np.dot(Rz(phi), Ry(theta))\n",
    "    return np.dot(Rtrans, vs_raw.T).T\n",
    "    \n",
    "def oriented_vector_cones(center_vectors, num_points, widest_angle=np.pi/3, normalize=False):\n",
    "    \n",
    "    if normalize:\n",
    "        cv_norm = center_vectors / np.linalg.norm(center_vector, axis=1)[:, np.newaxis]\n",
    "    else:\n",
    "        cv_norm = center_vectors\n",
    "        \n",
    "    thetas = np.arccos(cv_norm[:, 2])\n",
    "    phis = np.arctan2(cv_norm[:, 1], cv_norm[:, 0])\n",
    "    \n",
    "    vs_raw = unit_vector_sampler(num_points, widest_angle=widest_angle)\n",
    "    \n",
    "    Rtranses = []\n",
    "    data = []\n",
    "    for phi, theta in zip(phis, thetas):\n",
    "        data.append((phi, theta, vs_raw))\n",
    "    vector_cones = mu.multiprocess_func(_rotated_cone, data)\n",
    "    return vector_cones\n",
    "\n",
    "def _multi_angle_weighted_distance(data):\n",
    "    ds, angles, weights = data\n",
    "    return angle_weighted_distance(ds, angles, weights)\n",
    "\n",
    "def angle_weighted_distance(ds, angles, weights):\n",
    "    if len(ds)==0 or np.nansum(weights)==0:\n",
    "        return np.nan\n",
    "    \n",
    "    med_angle = np.median(angles)\n",
    "    std_angle = np.std(angles)\n",
    "    min_angle = med_angle-std_angle\n",
    "    max_angle = max(med_angle+std_angle, np.pi / 2)\n",
    "    good_rows = np.logical_and(angles>=min_angle, angles<=max_angle)\n",
    "    \n",
    "    nanaverage = np.nansum(ds[good_rows] * weights[good_rows]) / np.nansum(weights[good_rows])\n",
    "    return nanaverage\n",
    "\n",
    "def all_angle_weighted_distances(ds, angles, weights, rep_inds, inds):\n",
    "\n",
    "    data = []\n",
    "    real_inds, slice_bnds = np.unique(rep_inds, return_index=True)\n",
    "    \n",
    "    ind_map = []\n",
    "    for ii in range(len(real_inds)-1):\n",
    "        row = slice(slice_bnds[ii], slice_bnds[ii+1])\n",
    "        data.append((ds[row], angles[row], weights[row]))\n",
    "        ind_map.append(real_inds[ii])\n",
    "    row = slice(slice_bnds[-1], len(ds))\n",
    "    data.append( (ds[row], angles[row], weights[row]) )\n",
    "    ind_map.append(real_inds[-1])\n",
    "        \n",
    "    rs = mu.multiprocess_func(_multi_angle_weighted_distance, data)\n",
    "    \n",
    "    rs_out = np.nan * np.zeros(len(inds))\n",
    "    rs_out[np.array(ind_map)] = rs\n",
    "    \n",
    "    return rs_out\n",
    "\n",
    "def _compute_ray_vectors(mesh, mesh_inds, num_points, cone_angle):\n",
    "    return np.vstack( oriented_vector_cones(-mesh.vertex_normals[mesh_inds], num_points, cone_angle) )\n",
    "\n",
    "def shape_diameter_function(mesh, mesh_inds, num_points=30, cone_angle=np.pi/3):\n",
    "\n",
    "    start = (mesh.vertices-mesh.vertex_normals)[mesh_inds,:]\n",
    "    rep_inds = np.concatenate([ii*np.ones(num_points, dtype=int) for ii in range(start.shape[0])])\n",
    "    starts = start[rep_inds]\n",
    "    \n",
    "    vs = _compute_ray_vectors(mesh, mesh_inds, num_points, cone_angle)\n",
    "    \n",
    "    ray_inter = ray_pyembree.RayMeshIntersector(mesh)\n",
    "    rtrace = ray_inter.intersects_location(starts, vs, multiple_hits=False)\n",
    "    \n",
    "    hit_rows = rtrace[1]\n",
    "    ds = np.linalg.norm(rtrace[0] - starts[hit_rows], axis=1)\n",
    "    angles = np.arccos(np.sum(mesh.face_normals[rtrace[2]] * vs[hit_rows], axis=1))\n",
    "    weights = 1/angles\n",
    "    good_rows = np.isfinite(weights)\n",
    "    \n",
    "    rs = all_angle_weighted_distances(ds[good_rows], angles[good_rows], weights[good_rows], rep_inds[hit_rows[good_rows]], mesh_inds)\n",
    "    return rs"
   ]
  },
  {
   "cell_type": "code",
   "execution_count": 14,
   "metadata": {},
   "outputs": [],
   "source": [
    "vs_raw = unit_vector_sampler(30, widest_angle=np.pi/3)"
   ]
  },
  {
   "cell_type": "code",
   "execution_count": 207,
   "metadata": {},
   "outputs": [],
   "source": [
    "from numpy import matlib"
   ]
  },
  {
   "cell_type": "code",
   "execution_count": 216,
   "metadata": {},
   "outputs": [
    {
     "data": {
      "text/plain": [
       "array([0.        , 0.        , 1.        , ..., 0.76331346, 0.40117616,\n",
       "       0.50636968])"
      ]
     },
     "execution_count": 216,
     "metadata": {},
     "output_type": "execute_result"
    }
   ],
   "source": []
  },
  {
   "cell_type": "code",
   "execution_count": 15,
   "metadata": {},
   "outputs": [],
   "source": [
    "vs_long = np.concatenate( len(vinds)*[vs_raw] ).ravel().T"
   ]
  },
  {
   "cell_type": "code",
   "execution_count": 27,
   "metadata": {},
   "outputs": [],
   "source": [
    "import time"
   ]
  },
  {
   "cell_type": "code",
   "execution_count": 28,
   "metadata": {},
   "outputs": [
    {
     "name": "stdout",
     "output_type": "stream",
     "text": [
      "67.22831201553345\n"
     ]
    }
   ],
   "source": [
    "t0 = time.time()\n",
    "vs_rot = np.dot(test.astype(np.float32), np.vstack(len(vinds) * [vs_raw.T]).astype(np.float32))\n",
    "t1 = time.time()\n",
    "print(t1-t0)"
   ]
  },
  {
   "cell_type": "code",
   "execution_count": 29,
   "metadata": {},
   "outputs": [
    {
     "name": "stdout",
     "output_type": "stream",
     "text": [
      "37.25190019607544\n"
     ]
    }
   ],
   "source": [
    "t0 = time.time()\n",
    "vs_rot = np.dot(test, np.vstack(len(vinds) * [vs_raw.T]))\n",
    "t1 = time.time()\n",
    "print(t1-t0)"
   ]
  },
  {
   "cell_type": "code",
   "execution_count": 37,
   "metadata": {},
   "outputs": [],
   "source": [
    "vinds = np.random.permutation(np.arange(mesh.n_vertices))[0:20000]"
   ]
  },
  {
   "cell_type": "code",
   "execution_count": 38,
   "metadata": {},
   "outputs": [
    {
     "name": "stderr",
     "output_type": "stream",
     "text": [
      "/Users/caseyschneider-mizell/anaconda3/envs/data_analysis/lib/python3.6/site-packages/ipykernel_launcher.py:113: RuntimeWarning: divide by zero encountered in true_divide\n"
     ]
    },
    {
     "name": "stdout",
     "output_type": "stream",
     "text": [
      "Duration: 14.736207246780396 seconds\n"
     ]
    }
   ],
   "source": [
    "t0 = time.time()\n",
    "rs = shape_diameter_function(mesh, vinds, num_points=1)\n",
    "t1 = time.time()\n",
    "print(f'Duration: {t1-t0} seconds')"
   ]
  },
  {
   "cell_type": "code",
   "execution_count": 39,
   "metadata": {},
   "outputs": [
    {
     "name": "stderr",
     "output_type": "stream",
     "text": [
      "/Users/caseyschneider-mizell/anaconda3/envs/data_analysis/lib/python3.6/site-packages/ipykernel_launcher.py:113: RuntimeWarning: divide by zero encountered in true_divide\n"
     ]
    },
    {
     "name": "stdout",
     "output_type": "stream",
     "text": [
      "Duration: 14.358166217803955 seconds\n"
     ]
    }
   ],
   "source": [
    "t0 = time.time()\n",
    "rs = shape_diameter_function(mesh, vinds, num_points=10)\n",
    "t1 = time.time()\n",
    "print(f'Duration: {t1-t0} seconds')"
   ]
  },
  {
   "cell_type": "code",
   "execution_count": 40,
   "metadata": {},
   "outputs": [
    {
     "name": "stderr",
     "output_type": "stream",
     "text": [
      "/Users/caseyschneider-mizell/anaconda3/envs/data_analysis/lib/python3.6/site-packages/ipykernel_launcher.py:113: RuntimeWarning: divide by zero encountered in true_divide\n"
     ]
    },
    {
     "name": "stdout",
     "output_type": "stream",
     "text": [
      "Duration: 16.190942764282227 seconds\n"
     ]
    }
   ],
   "source": [
    "t0 = time.time()\n",
    "rs = shape_diameter_function(mesh, vinds, num_points=30)\n",
    "t1 = time.time()\n",
    "print(f'Duration: {t1-t0} seconds')"
   ]
  },
  {
   "cell_type": "code",
   "execution_count": 41,
   "metadata": {},
   "outputs": [
    {
     "data": {
      "text/plain": [
       "431.70496749332085"
      ]
     },
     "execution_count": 41,
     "metadata": {},
     "output_type": "execute_result"
    }
   ],
   "source": [
    "np.nanmedian(rs)"
   ]
  },
  {
   "cell_type": "code",
   "execution_count": null,
   "metadata": {},
   "outputs": [],
   "source": [
    "lpa = trimesh_vtk.linked_point_actor(vertices_a=np.zeros(vs.shape), vertices_b=vs, line_width=4)\n",
    "trimesh_vtk.render_actors([lpa])"
   ]
  },
  {
   "cell_type": "code",
   "execution_count": null,
   "metadata": {},
   "outputs": [],
   "source": [
    "base_vector = 2*np.random.rand(3)-1\n",
    "\n",
    "bv_norm = base_vector / np.linalg.norm(base_vector)\n",
    "theta = np.arccos(bv_norm[2])\n",
    "phi=np.arctan2(bv_norm[1], bv_norm[0])"
   ]
  },
  {
   "cell_type": "code",
   "execution_count": null,
   "metadata": {},
   "outputs": [],
   "source": [
    "phi"
   ]
  },
  {
   "cell_type": "code",
   "execution_count": null,
   "metadata": {},
   "outputs": [],
   "source": [
    "phi=np.arctan2(bv_norm[1], bv_norm[0])"
   ]
  },
  {
   "cell_type": "code",
   "execution_count": null,
   "metadata": {},
   "outputs": [],
   "source": [
    "Rtrans = np.dot(Rz(phi), Ry(theta))\n",
    "\n",
    "vs = unit_vector_sampler(120, widest_angle=np.pi/6)\n",
    "\n",
    "lpa = trimesh_vtk.linked_point_actor(vertices_a=np.zeros(vs.shape),\n",
    "                                     vertices_b=vs, line_width=4)\n",
    "\n",
    "rlpa = trimesh_vtk.linked_point_actor(vertices_a = np.zeros(vs.shape),\n",
    "                                      vertices_b = np.dot(Rtrans, vs.T).T,\n",
    "                                      color=(0, 0.8, 0.2),\n",
    "                                      opacity=0.4,\n",
    "                                      line_width = 4)"
   ]
  },
  {
   "cell_type": "code",
   "execution_count": null,
   "metadata": {},
   "outputs": [],
   "source": [
    "num_pts = 300 \n",
    "\n",
    "base_vector = 2*np.random.rand(3)-1\n",
    "bv_norm = base_vector / np.linalg.norm(base_vector)\n",
    "\n",
    "bva = vec_actor(2 * bv_norm, color=(0.8, 0.3, 0.3), linewidth=3)\n",
    "lpa = trimesh_vtk.linked_point_actor(vertices_a=np.zeros((num_pts,3)),\n",
    "                                     vertices_b=oriented_vector_cone(num_pts, base_vector, widest_angle=np.pi/6), line_width=4)\n",
    "\n",
    "x_axis = vec_actor([1.3,0,0], linewidth=1, opacity=0.5, color=(0.5,0,0))\n",
    "y_axis = vec_actor([0,1.3,0], linewidth=1, opacity=0.5, color=(0,0.5,0))\n",
    "z_axis = vec_actor([0,0,1.3], linewidth=1, opacity=0.5, color=(0,0,0.5))\n",
    "\n",
    "trimesh_vtk.render_actors([x_axis, y_axis, z_axis, bva, lpa])"
   ]
  },
  {
   "cell_type": "code",
   "execution_count": 52,
   "metadata": {},
   "outputs": [],
   "source": [
    "ray_inter = ray_pyembree.RayMeshIntersector(mesh)"
   ]
  },
  {
   "cell_type": "code",
   "execution_count": null,
   "metadata": {},
   "outputs": [],
   "source": []
  },
  {
   "cell_type": "code",
   "execution_count": 93,
   "metadata": {},
   "outputs": [
    {
     "data": {
      "text/plain": [
       "(array([[-0.94384392, -0.05384925, -0.32597381],\n",
       "        [-0.92460163, -0.37777415,  0.04897466],\n",
       "        [-0.76349825,  0.56745975, -0.30831776],\n",
       "        [-0.51734291, -0.57659775, -0.63236962],\n",
       "        [-0.88034947,  0.0786244 ,  0.46776385],\n",
       "        [-0.40791969,  0.39315076, -0.8240352 ],\n",
       "        [-0.58769057, -0.80908338,  0.00197069],\n",
       "        [-0.70113031,  0.69160491,  0.17349045],\n",
       "        [-0.23861778, -0.30229268, -0.92286548],\n",
       "        [-0.72909119, -0.36806857,  0.57701955]]),\n",
       " array([-0.94384392, -0.05384925, -0.32597381]))"
      ]
     },
     "execution_count": 93,
     "metadata": {},
     "output_type": "execute_result"
    }
   ],
   "source": [
    "ind = 0\n",
    "oriented_vector_cone(10, mesh.vertex_normals[ind]), mesh.vertex_normals[ind]"
   ]
  },
  {
   "cell_type": "code",
   "execution_count": 57,
   "metadata": {},
   "outputs": [
    {
     "name": "stdout",
     "output_type": "stream",
     "text": [
      "116.78793120384216\n"
     ]
    }
   ],
   "source": [
    "t0 = time.time()\n",
    "rtrace = ray_inter.intersects_location(mesh.vertices-mesh.vertex_normals, -mesh.vertex_normals)\n",
    "t1 = time.time()\n",
    "print(t1-t0)"
   ]
  },
  {
   "cell_type": "code",
   "execution_count": 44,
   "metadata": {},
   "outputs": [],
   "source": [
    "%load_ext line_profiler"
   ]
  },
  {
   "cell_type": "code",
   "execution_count": 47,
   "metadata": {},
   "outputs": [],
   "source": [
    "vinds = np.random.permutation(np.arange(mesh.n_vertices))[0:100000]"
   ]
  },
  {
   "cell_type": "code",
   "execution_count": 52,
   "metadata": {},
   "outputs": [],
   "source": [
    "\n",
    "cam = trimesh_vtk.render_actors([ma])"
   ]
  },
  {
   "cell_type": "code",
   "execution_count": 57,
   "metadata": {},
   "outputs": [],
   "source": [
    "c=cam.GetActiveCamera()\n",
    "pt=np.array(c.GetPosition())"
   ]
  },
  {
   "cell_type": "code",
   "execution_count": 58,
   "metadata": {},
   "outputs": [
    {
     "data": {
      "text/plain": [
       "array([253743.87988908, 189458.07841645,  56249.63229858])"
      ]
     },
     "execution_count": 58,
     "metadata": {},
     "output_type": "execute_result"
    }
   ],
   "source": []
  },
  {
   "cell_type": "code",
   "execution_count": 56,
   "metadata": {},
   "outputs": [],
   "source": [
    "from meshparty import mesh_filters"
   ]
  },
  {
   "cell_type": "code",
   "execution_count": 63,
   "metadata": {},
   "outputs": [],
   "source": [
    "mf = mesh_filters.filter_spatial_distance_from_points(mesh,pts=[pt],d_max=40000)"
   ]
  },
  {
   "cell_type": "code",
   "execution_count": 67,
   "metadata": {},
   "outputs": [],
   "source": [
    "mesh_filt = mesh.apply_mask(mf)\n",
    "mesh_filt = mesh_filt.apply_mask( mesh_filters.filter_largest_component(mesh_filt) )"
   ]
  },
  {
   "cell_type": "code",
   "execution_count": 68,
   "metadata": {},
   "outputs": [
    {
     "data": {
      "text/plain": [
       "(vtkRenderingOpenGL2Python.vtkOpenGLRenderer)0x116251a08"
      ]
     },
     "execution_count": 68,
     "metadata": {},
     "output_type": "execute_result"
    }
   ],
   "source": [
    "ma = trimesh_vtk.mesh_actor(mesh_filt)\n",
    "trimesh_vtk.render_actors([ma])"
   ]
  },
  {
   "cell_type": "code",
   "execution_count": 108,
   "metadata": {},
   "outputs": [
    {
     "name": "stderr",
     "output_type": "stream",
     "text": [
      "/Users/caseyschneider-mizell/anaconda3/envs/data_analysis/lib/python3.6/site-packages/ipykernel_launcher.py:127: RuntimeWarning: divide by zero encountered in true_divide\n"
     ]
    }
   ],
   "source": [
    "rs = shape_diameter_function(mesh_filt, np.arange(mesh_filt.n_vertices), num_points=30)"
   ]
  },
  {
   "cell_type": "code",
   "execution_count": 109,
   "metadata": {},
   "outputs": [
    {
     "data": {
      "text/plain": [
       "(vtkRenderingOpenGL2Python.vtkOpenGLRenderer)0x12a16d708"
      ]
     },
     "execution_count": 109,
     "metadata": {},
     "output_type": "execute_result"
    }
   ],
   "source": [
    "rs = np.array(rs)\n",
    "ma = trimesh_vtk.mesh_actor(mesh_filt, vertex_colors=rs/1000, opacity=1)\n",
    "trimesh_vtk.render_actors([ma])"
   ]
  },
  {
   "cell_type": "code",
   "execution_count": 85,
   "metadata": {},
   "outputs": [],
   "source": [
    "mesh_filt.write_to_file('test_dendrite.h5')"
   ]
  },
  {
   "cell_type": "code",
   "execution_count": 101,
   "metadata": {},
   "outputs": [
    {
     "name": "stderr",
     "output_type": "stream",
     "text": [
      "/Users/caseyschneider-mizell/anaconda3/envs/data_analysis/lib/python3.6/site-packages/ipykernel_launcher.py:120: RuntimeWarning: divide by zero encountered in true_divide\n"
     ]
    },
    {
     "data": {
      "text/plain": [
       "Timer unit: 1e-06 s\n",
       "\n",
       "Total time: 49.894 s\n",
       "File: <ipython-input-94-a30cc8e4fba1>\n",
       "Function: shape_diameter_function at line 107\n",
       "\n",
       "Line #      Hits         Time  Per Hit   % Time  Line Contents\n",
       "==============================================================\n",
       "   107                                           def shape_diameter_function(mesh, mesh_inds, num_points=30, cone_angle=np.pi/3):\n",
       "   108                                           \n",
       "   109         1       3769.0   3769.0      0.0      start = (mesh.vertices-mesh.vertex_normals)[mesh_inds,:]\n",
       "   110         1     514113.0 514113.0      1.0      rep_inds = np.concatenate([ii*np.ones(num_points, dtype=int) for ii in range(start.shape[0])])\n",
       "   111         1     203494.0 203494.0      0.4      starts = start[rep_inds]\n",
       "   112                                               \n",
       "   113         1    2594347.0 2594347.0      5.2      vs = _compute_ray_vectors(mesh, mesh_inds, num_points, cone_angle)\n",
       "   114                                               \n",
       "   115         1        442.0    442.0      0.0      ray_inter = ray_pyembree.RayMeshIntersector(mesh)\n",
       "   116         1   36850744.0 36850744.0     73.9      rtrace = ray_inter.intersects_location(starts, vs, multiple_hits=False)\n",
       "   117         1          2.0      2.0      0.0      hit_rows = rtrace[1]\n",
       "   118         1     648452.0 648452.0      1.3      ds = np.linalg.norm(rtrace[0] - starts[hit_rows], axis=1)\n",
       "   119         1     841345.0 841345.0      1.7      angles = np.arccos(np.sum(mesh.face_normals[rtrace[2]] * vs[hit_rows], axis=1))\n",
       "   120         1      10620.0  10620.0      0.0      weights = 1/angles\n",
       "   121         1       5588.0   5588.0      0.0      good_rows = np.isfinite(weights)\n",
       "   122                                               \n",
       "   123         1    8221049.0 8221049.0     16.5      rs = all_angle_distances(ds[good_rows], angles[good_rows], weights[good_rows], rep_inds[hit_rows[good_rows]], mesh_inds)\n",
       "   124         1          4.0      4.0      0.0      return rs"
      ]
     },
     "metadata": {},
     "output_type": "display_data"
    }
   ],
   "source": [
    "%lprun -f shape_diameter_function shape_diameter_function(mesh_filt, np.arange(mesh_filt.n_vertices), num_points=30)"
   ]
  },
  {
   "cell_type": "code",
   "execution_count": 99,
   "metadata": {},
   "outputs": [
    {
     "data": {
      "text/plain": [
       "0.0"
      ]
     },
     "execution_count": 99,
     "metadata": {},
     "output_type": "execute_result"
    }
   ],
   "source": []
  },
  {
   "cell_type": "code",
   "execution_count": null,
   "metadata": {},
   "outputs": [],
   "source": [
    "ind = np.array([40300])\n",
    "pca = trimesh_vtk.point_cloud_actor(mesh.vertices[ind], size=100, opacity=0.4, color=(1,0,0))\n",
    "# trimesh_vtk.render_actors([ma, pca])"
   ]
  },
  {
   "cell_type": "code",
   "execution_count": null,
   "metadata": {},
   "outputs": [],
   "source": [
    "inds = np.array([40300, 185300])"
   ]
  },
  {
   "cell_type": "code",
   "execution_count": null,
   "metadata": {},
   "outputs": [],
   "source": [
    "num_pts = 30\n",
    "start = (mesh.vertices-mesh.vertex_normals)[inds,:]\n",
    "rep_inds = np.concatenate([ii*np.ones(num_pts, dtype=int) for ii in range(start.shape[0])])\n",
    "starts = start[rep_inds]"
   ]
  },
  {
   "cell_type": "code",
   "execution_count": null,
   "metadata": {},
   "outputs": [],
   "source": [
    "wangle = np.pi/3\n",
    "vs = np.vstack( [oriented_vector_cone(num_pts, -vertex_normal.reshape(3), wangle) for vertex_normal in mesh.vertex_normals[inds]])"
   ]
  },
  {
   "cell_type": "code",
   "execution_count": null,
   "metadata": {},
   "outputs": [],
   "source": [
    "rtrace = ray_inter.intersects_location(starts, vs, multiple_hits=False)\n",
    "\n",
    "hit_rows = rtrace[1]\n",
    "ds = np.linalg.norm(rtrace[0] - starts[hit_rows], axis=1)\n",
    "angles = np.arccos(np.sum(mesh.face_normals[rtrace[2]] * vs[hit_rows], axis=1))\n",
    "weights = 1/angles"
   ]
  },
  {
   "cell_type": "code",
   "execution_count": null,
   "metadata": {},
   "outputs": [],
   "source": [
    "all_angle_distances(ds, angles, weights, rep_inds, inds)"
   ]
  },
  {
   "cell_type": "code",
   "execution_count": null,
   "metadata": {},
   "outputs": [],
   "source": [
    "np.array([angle_weighted_distance(data[data[:,3]== ii , 0:3]) for ii in range(len(inds))])"
   ]
  },
  {
   "cell_type": "code",
   "execution_count": null,
   "metadata": {},
   "outputs": [],
   "source": [
    "out.statistic[1:].reshape(len(inds))"
   ]
  },
  {
   "cell_type": "code",
   "execution_count": null,
   "metadata": {},
   "outputs": [],
   "source": [
    "out = stats.binned_statistic(rep_inds[hit_rows], np.vstack((ds, angles, weights)), statistic = angle_weighted_distance, bins=0.5 ) "
   ]
  },
  {
   "cell_type": "code",
   "execution_count": null,
   "metadata": {},
   "outputs": [],
   "source": [
    "num_pts = 30\n",
    "\n",
    "eff_r = []\n",
    "for num_pts in np.arange(1,101,1):\n",
    "\n",
    "    wangle = np.pi/3\n",
    "\n",
    "    ind = np.array([185300])\n",
    "\n",
    "    start = (mesh.vertices-mesh.vertex_normals)[ind,:]\n",
    "    starts = np.vstack(num_pts * [start])\n",
    "\n",
    "    vs = oriented_vector_cone(num_points=num_pts,\n",
    "                              center_vector=-mesh.vertex_normals[ind].reshape(3),\n",
    "                              widest_angle=wangle)\n",
    "\n",
    "    # lpa = trimesh_vtk.linked_point_actor(vertices_a=np.zeros((num_pts,3))+mesh.vertices[ind].reshape(3),\n",
    "    #                                      vertices_b=1000 * vs + +mesh.vertices[ind].reshape(3), line_width=4, color=(1,0,0))\n",
    "\n",
    "\n",
    "\n",
    "    # trimesh_vtk.render_actors([ma, lpa])\n",
    "\n",
    "    rtrace = ray_inter.intersects_location(starts, vs, multiple_hits=False)\n",
    "\n",
    "    orig_pt = mesh.vertices[ind]\n",
    "    ds = np.linalg.norm(rtrace[0]-orig_pt, axis=1)\n",
    "\n",
    "    angles = np.arccos(np.sum(mesh.face_normals[rtrace[2]] * vs[rtrace[1]], axis=1))\n",
    "\n",
    "    med_angle = np.median(angles)\n",
    "    std_angle = np.std(angles)\n",
    "    good_rows = np.logical_and(angles>=med_angle-std_angle, angles<=med_angle+std_angle)\n",
    "\n",
    "    weights = 1/angles\n",
    "\n",
    "    eff_r.append(np.average(ds[good_rows], weights=weights[good_rows]))"
   ]
  },
  {
   "cell_type": "code",
   "execution_count": null,
   "metadata": {},
   "outputs": [],
   "source": [
    "plt.plot(np.arange(1,101, 1), eff_r,'o')"
   ]
  },
  {
   "cell_type": "code",
   "execution_count": null,
   "metadata": {},
   "outputs": [],
   "source": []
  }
 ],
 "metadata": {
  "kernelspec": {
   "display_name": "“data_analysis”",
   "language": "python",
   "name": "jupyter_space"
  },
  "language_info": {
   "codemirror_mode": {
    "name": "ipython",
    "version": 3
   },
   "file_extension": ".py",
   "mimetype": "text/x-python",
   "name": "python",
   "nbconvert_exporter": "python",
   "pygments_lexer": "ipython3",
   "version": "3.6.6"
  }
 },
 "nbformat": 4,
 "nbformat_minor": 4
}
